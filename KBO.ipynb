{
 "cells": [
  {
   "cell_type": "code",
   "execution_count": 15,
   "metadata": {},
   "outputs": [],
   "source": [
    "from bs4 import BeautifulSoup\n",
    "import requests\n",
    "import pandas as pd"
   ]
  },
  {
   "cell_type": "code",
   "execution_count": 7,
   "metadata": {},
   "outputs": [],
   "source": [
    "url = \"https://www.koreabaseball.com/History/Crowd/GraphDaily.aspx\" # url\n",
    "result = requests.get(url) #url request 받기\n",
    "bs_obj = BeautifulSoup(result.text, \"html.parser\") # html 읽기"
   ]
  },
  {
   "cell_type": "markdown",
   "metadata": {},
   "source": [
    "class명이 tData인 table tag를 찾아 tdata에 할당<br>\n",
    "그 안에 tbody의 데이터를 series에 할당"
   ]
  },
  {
   "cell_type": "code",
   "execution_count": 24,
   "metadata": {},
   "outputs": [],
   "source": [
    "tdata = bs_obj.find(\"table\", {\"class\":\"tData\"})\n",
    "series = tdata.find(\"tbody\") \n",
    "kbdata_spec = series.text  "
   ]
  },
  {
   "cell_type": "markdown",
   "metadata": {},
   "source": [
    "tadata 안의 tr태그를 모두 찾아 rows에 할당"
   ]
  },
  {
   "cell_type": "code",
   "execution_count": 11,
   "metadata": {},
   "outputs": [],
   "source": [
    "rows = tdata.find_all('tr')"
   ]
  },
  {
   "cell_type": "markdown",
   "metadata": {},
   "source": [
    "res라는 빈공간을 생성하고 <br>\n",
    "반복문을 이용하여 tr 안의 td tag를 찾아 td에 할당하고 <br>\n",
    "row 변수에 반복문을 이용하여 strip()함수를 이용하여 td tag안의 tr 태그 안의 내용의 문자열의 양 끝에 있는 공백과 \\n을 제거 <br>\n",
    "그리고 row 변수를 append 함수를 이용하여 df 결합"
   ]
  },
  {
   "cell_type": "code",
   "execution_count": 12,
   "metadata": {},
   "outputs": [],
   "source": [
    "res = []\n",
    "for tr in rows:\n",
    "    td = tr.find_all('td')\n",
    "    row = [tr.text.strip() for tr in td if tr.text.strip()]\n",
    "    if row:\n",
    "        res.append(row)"
   ]
  },
  {
   "cell_type": "markdown",
   "metadata": {},
   "source": [
    "데이터 프레임을 생성하여 컬럼 설정해주고 <br>\n",
    "맨 첫 번째 줄은 드랍해준다"
   ]
  },
  {
   "cell_type": "code",
   "execution_count": 18,
   "metadata": {},
   "outputs": [],
   "source": [
    "df_tdata = pd.DataFrame(res, columns=['date','day','h_team','v_team','place','number'])\n",
    "df_tdata = df_tdata.drop(0)"
   ]
  },
  {
   "cell_type": "markdown",
   "metadata": {},
   "source": [
    "그리고 number의 요소에 ,를 제거"
   ]
  },
  {
   "cell_type": "code",
   "execution_count": 21,
   "metadata": {},
   "outputs": [],
   "source": [
    "df_tdata['number'] = df_tdata['number'].str.replace(',','')"
   ]
  },
  {
   "cell_type": "code",
   "execution_count": 23,
   "metadata": {},
   "outputs": [
    {
     "data": {
      "text/html": [
       "<div>\n",
       "<style scoped>\n",
       "    .dataframe tbody tr th:only-of-type {\n",
       "        vertical-align: middle;\n",
       "    }\n",
       "\n",
       "    .dataframe tbody tr th {\n",
       "        vertical-align: top;\n",
       "    }\n",
       "\n",
       "    .dataframe thead th {\n",
       "        text-align: right;\n",
       "    }\n",
       "</style>\n",
       "<table border=\"1\" class=\"dataframe\">\n",
       "  <thead>\n",
       "    <tr style=\"text-align: right;\">\n",
       "      <th></th>\n",
       "      <th>date</th>\n",
       "      <th>day</th>\n",
       "      <th>h_team</th>\n",
       "      <th>v_team</th>\n",
       "      <th>place</th>\n",
       "      <th>number</th>\n",
       "    </tr>\n",
       "  </thead>\n",
       "  <tbody>\n",
       "    <tr>\n",
       "      <th>1</th>\n",
       "      <td>2019/03/23</td>\n",
       "      <td>토</td>\n",
       "      <td>두산</td>\n",
       "      <td>한화</td>\n",
       "      <td>잠실</td>\n",
       "      <td>25000</td>\n",
       "    </tr>\n",
       "    <tr>\n",
       "      <th>2</th>\n",
       "      <td>2019/03/23</td>\n",
       "      <td>토</td>\n",
       "      <td>SK</td>\n",
       "      <td>KT</td>\n",
       "      <td>문학</td>\n",
       "      <td>21909</td>\n",
       "    </tr>\n",
       "    <tr>\n",
       "      <th>3</th>\n",
       "      <td>2019/03/23</td>\n",
       "      <td>토</td>\n",
       "      <td>KIA</td>\n",
       "      <td>LG</td>\n",
       "      <td>광주</td>\n",
       "      <td>20500</td>\n",
       "    </tr>\n",
       "    <tr>\n",
       "      <th>4</th>\n",
       "      <td>2019/03/23</td>\n",
       "      <td>토</td>\n",
       "      <td>NC</td>\n",
       "      <td>삼성</td>\n",
       "      <td>창원</td>\n",
       "      <td>22112</td>\n",
       "    </tr>\n",
       "    <tr>\n",
       "      <th>5</th>\n",
       "      <td>2019/03/23</td>\n",
       "      <td>토</td>\n",
       "      <td>롯데</td>\n",
       "      <td>키움</td>\n",
       "      <td>사직</td>\n",
       "      <td>24500</td>\n",
       "    </tr>\n",
       "  </tbody>\n",
       "</table>\n",
       "</div>"
      ],
      "text/plain": [
       "         date day h_team v_team place number\n",
       "1  2019/03/23   토     두산     한화    잠실  25000\n",
       "2  2019/03/23   토     SK     KT    문학  21909\n",
       "3  2019/03/23   토    KIA     LG    광주  20500\n",
       "4  2019/03/23   토     NC     삼성    창원  22112\n",
       "5  2019/03/23   토     롯데     키움    사직  24500"
      ]
     },
     "execution_count": 23,
     "metadata": {},
     "output_type": "execute_result"
    }
   ],
   "source": [
    "df_tdata.head()"
   ]
  },
  {
   "cell_type": "markdown",
   "metadata": {},
   "source": [
    "teddy lee 님께서 도와주셨습니다. <br>"
   ]
  }
 ],
 "metadata": {
  "kernelspec": {
   "display_name": "Python 3",
   "language": "python",
   "name": "python3"
  },
  "language_info": {
   "codemirror_mode": {
    "name": "ipython",
    "version": 3
   },
   "file_extension": ".py",
   "mimetype": "text/x-python",
   "name": "python",
   "nbconvert_exporter": "python",
   "pygments_lexer": "ipython3",
   "version": "3.7.3"
  }
 },
 "nbformat": 4,
 "nbformat_minor": 2
}
